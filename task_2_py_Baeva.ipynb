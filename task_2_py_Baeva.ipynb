{
  "nbformat": 4,
  "nbformat_minor": 0,
  "metadata": {
    "colab": {
      "provenance": [],
      "toc_visible": true,
      "authorship_tag": "ABX9TyNaYt1qHIUg99h6FIAYWbIx",
      "include_colab_link": true
    },
    "kernelspec": {
      "name": "python3",
      "display_name": "Python 3"
    },
    "language_info": {
      "name": "python"
    }
  },
  "cells": [
    {
      "cell_type": "markdown",
      "metadata": {
        "id": "view-in-github",
        "colab_type": "text"
      },
      "source": [
        "<a href=\"https://colab.research.google.com/github/ritaveab/python_hse/blob/main/task_2_py_Baeva.ipynb\" target=\"_parent\"><img src=\"https://colab.research.google.com/assets/colab-badge.svg\" alt=\"Open In Colab\"/></a>"
      ]
    },
    {
      "cell_type": "markdown",
      "source": [
        "# task_2.py"
      ],
      "metadata": {
        "id": "3nogQ8cF0aez"
      }
    },
    {
      "cell_type": "code",
      "source": [
        "def main(greet_text):\n",
        "    # 1. Допишите код:\n",
        "    # Вместо pass напишите строку кода для вывода на экран приветствия\n",
        "    # Функция print принимает на вход содержание переменной greet_text\n",
        "    print(greet_text)\n",
        "\n",
        "\n",
        "if __name__ == \"__main__\":\n",
        "    # 2. Допишите строчку кода:\n",
        "    # Здесь должно производиться присваивание переменной\n",
        "    # Мы должны занести в greet_text текст приветствия вместо None\n",
        "    greet_text = \"Hi, user\"\n",
        "    main(greet_text)"
      ],
      "metadata": {
        "colab": {
          "base_uri": "https://localhost:8080/"
        },
        "id": "cc0PjxAjzVtH",
        "outputId": "46216208-d4cf-421b-b8b3-6f92ba2f9aa8"
      },
      "execution_count": 33,
      "outputs": [
        {
          "output_type": "stream",
          "name": "stdout",
          "text": [
            "Hi, user\n"
          ]
        }
      ]
    },
    {
      "cell_type": "code",
      "execution_count": 29,
      "metadata": {
        "colab": {
          "base_uri": "https://localhost:8080/",
          "height": 103
        },
        "id": "BU6hfRgGPnkh",
        "outputId": "dd5d6f4d-3de6-4c17-aeb3-f22c288864e9"
      },
      "outputs": [
        {
          "output_type": "stream",
          "name": "stdout",
          "text": [
            "Hello, World!\n",
            "Hello World\n",
            "Hello, World\n",
            "Hello, Goodbye\n"
          ]
        },
        {
          "output_type": "execute_result",
          "data": {
            "text/plain": [
              "'\\nГлавная функция программы.\\nФункция выводит строку \"Hello, World!\"  в консоль.\\n'"
            ],
            "application/vnd.google.colaboratory.intrinsic+json": {
              "type": "string"
            }
          },
          "metadata": {},
          "execution_count": 29
        }
      ],
      "source": [
        "print(\"Hello, World!\")\n",
        "print(\"Hello\",\"World\")\n",
        "print(\"Hello\",\"World\",sep=\", \")\n",
        "print(\"Hello\",end=\", \")\n",
        "print(\"Goodbye\")\n",
        "'''\n",
        "Главная функция программы.\n",
        "Функция выводит строку \"Hello, World!\"  в консоль.\n",
        "'''\n",
        "\n",
        "\n",
        "\n"
      ]
    }
  ]
}