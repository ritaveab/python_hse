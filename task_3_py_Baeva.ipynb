{
  "nbformat": 4,
  "nbformat_minor": 0,
  "metadata": {
    "colab": {
      "provenance": [],
      "toc_visible": true,
      "authorship_tag": "ABX9TyPL+Kco3+LXkaMh/PnVNh6l",
      "include_colab_link": true
    },
    "kernelspec": {
      "name": "python3",
      "display_name": "Python 3"
    },
    "language_info": {
      "name": "python"
    }
  },
  "cells": [
    {
      "cell_type": "markdown",
      "metadata": {
        "id": "view-in-github",
        "colab_type": "text"
      },
      "source": [
        "<a href=\"https://colab.research.google.com/github/ritaveab/python_hse/blob/main/task_3_py_Baeva.ipynb\" target=\"_parent\"><img src=\"https://colab.research.google.com/assets/colab-badge.svg\" alt=\"Open In Colab\"/></a>"
      ]
    },
    {
      "cell_type": "markdown",
      "source": [
        "# task_2.py"
      ],
      "metadata": {
        "id": "3nogQ8cF0aez"
      }
    },
    {
      "cell_type": "code",
      "source": [
        "def main(greet_text):\n",
        "    # 1. Допишите код:\n",
        "    # Вместо pass напишите строку кода для вывода на экран приветствия\n",
        "    # Функция print принимает на вход содержание переменной greet_text\n",
        "    print(greet_text)\n",
        "\n",
        "\n",
        "if __name__ == \"__main__\":\n",
        "    # 2. Допишите строчку кода:\n",
        "    # Здесь должно производиться присваивание переменной\n",
        "    # Мы должны занести в greet_text текст приветствия вместо None\n",
        "    greet_text = \"Hi, user\"\n",
        "    main(greet_text)"
      ],
      "metadata": {
        "colab": {
          "base_uri": "https://localhost:8080/"
        },
        "id": "cc0PjxAjzVtH",
        "outputId": "46216208-d4cf-421b-b8b3-6f92ba2f9aa8"
      },
      "execution_count": null,
      "outputs": [
        {
          "output_type": "stream",
          "name": "stdout",
          "text": [
            "Hi, user\n"
          ]
        }
      ]
    },
    {
      "cell_type": "code",
      "execution_count": null,
      "metadata": {
        "colab": {
          "base_uri": "https://localhost:8080/",
          "height": 103
        },
        "id": "BU6hfRgGPnkh",
        "outputId": "dd5d6f4d-3de6-4c17-aeb3-f22c288864e9"
      },
      "outputs": [
        {
          "output_type": "stream",
          "name": "stdout",
          "text": [
            "Hello, World!\n",
            "Hello World\n",
            "Hello, World\n",
            "Hello, Goodbye\n"
          ]
        },
        {
          "output_type": "execute_result",
          "data": {
            "text/plain": [
              "'\\nГлавная функция программы.\\nФункция выводит строку \"Hello, World!\"  в консоль.\\n'"
            ],
            "application/vnd.google.colaboratory.intrinsic+json": {
              "type": "string"
            }
          },
          "metadata": {},
          "execution_count": 29
        }
      ],
      "source": [
        "print(\"Hello, World!\")\n",
        "print(\"Hello\",\"World\")\n",
        "print(\"Hello\",\"World\",sep=\", \")\n",
        "print(\"Hello\",end=\", \")\n",
        "print(\"Goodbye\")\n",
        "'''\n",
        "Главная функция программы.\n",
        "Функция выводит строку \"Hello, World!\"  в консоль.\n",
        "'''\n",
        "\n",
        "\n",
        "\n"
      ]
    },
    {
      "cell_type": "markdown",
      "source": [
        "# playgroun.py\n"
      ],
      "metadata": {
        "id": "Bpeg0jlv4GRJ"
      }
    },
    {
      "cell_type": "code",
      "source": [
        "greet_text = \"Hello, World!\"\n",
        "print(greet_text)\n",
        "\n",
        "# 1. Замените текст в переменной greet_text\n",
        "greet_text = \"Hi, friend\"\n",
        "print(greet_text)\n",
        "\n",
        "# 2. Создайте новую переменную с любым текстом\n",
        "new_text = \"Hi, people!\"\n",
        "print(new_text)\n",
        "\n",
        "# 3. Запишите new_text в greet_text\n",
        "greet_text = new_text\n",
        "print(greet_text)\n",
        "\n",
        "# 4. А теперь мы изменим свойства new_text\n",
        "new_text += \" Wow!\"\n",
        "print(new_text)"
      ],
      "metadata": {
        "colab": {
          "base_uri": "https://localhost:8080/"
        },
        "id": "iTtCIqYI4MnG",
        "outputId": "cf901687-9f22-4397-8142-6bd9d8e579e4"
      },
      "execution_count": 34,
      "outputs": [
        {
          "output_type": "stream",
          "name": "stdout",
          "text": [
            "Hello, World!\n",
            "Hi, friend\n",
            "Hi, people!\n",
            "Hi, people!\n",
            "Hi, people! Wow!\n"
          ]
        }
      ]
    },
    {
      "cell_type": "markdown",
      "source": [
        "# task_3.py"
      ],
      "metadata": {
        "id": "fLNrLXnL3-rw"
      }
    },
    {
      "cell_type": "code",
      "source": [
        "\"\"\"\n",
        "1. Записать в переменную приветствие для пользователя и\n",
        "   вывести его на экран\n",
        "\"\"\"\n",
        "\n",
        "#\n",
        "text = \"Привет\"\n",
        "print(text)\n",
        "\n",
        "\"\"\"\n",
        "2. Записать в переменную name имя Анна и вывести приветствие\n",
        "   с использованием конкатенации строк\n",
        "\"\"\"\n",
        "\n",
        "#\n",
        "name = \"Анна\"\n",
        "print(\"Привет, \"+ name)\n",
        "\n",
        "\n",
        "\n",
        "# Ожидаемый вывод: Привет, Анна\n",
        "\n",
        "\n",
        "\"\"\"\n",
        "3. Записать в переменную name имя Анна и вывести приветствие\n",
        "   с использованием конкатенации строк. Обратите внимание на\n",
        "   возможность множественной конкатенации (a + b + c). Также\n",
        "   обратите внимание на использование пробелов в выводе\n",
        "\"\"\"\n",
        "\n",
        "#\n",
        "text = \"Привет\"\n",
        "name = \"Анна\"\n",
        "new_text = \", \"\n",
        "new2_text = \"!\"\n",
        "print(text+new_text+name+new2_text)\n",
        "\n",
        "\n",
        "# Ожидаемый вывод: Привет, Анна!\n",
        "\n",
        "\n",
        "\"\"\"\n",
        "4. Записать в переменную name имя Анна. Записать в переменную\n",
        "   surname фамилию Смирнова. Вывести приветствие с помощью +=\n",
        "\"\"\"\n",
        "\n",
        "# Ваше решение здесь\n",
        "text = \"Привет, \"\n",
        "name = \"Анна \"\n",
        "surname = \"Смирнова\"\n",
        "marks = \"!\"\n",
        "text += name+surname+marks\n",
        "print(text)\n",
        "# Ожидаемый вывод: Привет, Анна Смирнова!\n",
        "\n",
        "\"\"\"\n",
        "5. Добавлять значения в print можно через запятую, например,\n",
        "   print(text, number)\n",
        "\n",
        "   Запишите в переменные name, surname, age данные пользователя\n",
        "   Анна Смирнова, которой 25 лет. Выведите результат, используя +=\n",
        "\n",
        "   Hint: вызов print() с новой строки, создает новую строку в выводе\n",
        "   print(\"Строка один\")\n",
        "   print(\"Строка два\")\n",
        "\n",
        "   Результат в консоли:\n",
        "   Строка один\n",
        "   Строка два\n",
        "\n",
        "   Еще для создания новой строки можно использовать \"\\n\" (ньюлайн).\n",
        "   \"\\n\" работает как обычная строка, ее можно конкатенировать,\n",
        "   передавать через запятую, просто \"принтить\"\n",
        "\"\"\"\n",
        "\n",
        "#\n",
        "name = \"Анна\"\n",
        "surname = \"Смирнова\"\n",
        "age = \"25\"\n",
        "print(\"User: \"+name,surname)\n",
        "print(\"Age: \"+age)\n",
        "\n",
        "\n",
        "# Ожидаемый вывод:\n",
        "# User: Анна Смирнова\n",
        "# Age: 25\n"
      ],
      "metadata": {
        "colab": {
          "base_uri": "https://localhost:8080/"
        },
        "id": "uLzwfcWG4Df0",
        "outputId": "f61e6fad-0ced-41e9-a8ba-ea7301afa07b"
      },
      "execution_count": 58,
      "outputs": [
        {
          "output_type": "stream",
          "name": "stdout",
          "text": [
            "Привет\n",
            "Привет, Анна\n",
            "Привет, Анна!\n",
            "Привет, Анна Смирнова!\n",
            "User: Анна Смирнова\n",
            "Age: 25\n"
          ]
        }
      ]
    }
  ]
}